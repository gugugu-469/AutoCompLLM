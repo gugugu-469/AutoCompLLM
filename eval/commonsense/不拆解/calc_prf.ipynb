{
 "cells": [
  {
   "cell_type": "code",
   "execution_count": null,
   "metadata": {},
   "outputs": [],
   "source": [
    "import jsonlines\n",
    "import re\n",
    "import json\n",
    "import os"
   ]
  },
  {
   "cell_type": "code",
   "execution_count": null,
   "metadata": {},
   "outputs": [],
   "source": [
    "with jsonlines.open('xx/ori/CommonsenseQA/dev_rand_split.jsonl', 'r') as f:\n",
    "    gold_datas = [data for data in f]"
   ]
  },
  {
   "cell_type": "code",
   "execution_count": null,
   "metadata": {},
   "outputs": [],
   "source": [
    "gold_options = []\n",
    "gold_dict = {}\n",
    "for index,data in enumerate(gold_datas):\n",
    "    question = data['question']['stem']\n",
    "    gold_dict[question] = index\n",
    "    gold_options.append(data['question']['choices'])"
   ]
  },
  {
   "cell_type": "code",
   "execution_count": null,
   "metadata": {},
   "outputs": [],
   "source": [
    "gold_tuples = []\n",
    "for index, data in enumerate(gold_datas):\n",
    "    answerKey = data['answerKey']\n",
    "    answerKey_index = ord(answerKey)-ord('A')\n",
    "    answer_choice = data['question']['choices'][answerKey_index]\n",
    "    assert answer_choice['label'] == answerKey\n",
    "    gold_tuples.append((index, answer_choice['text']))"
   ]
  },
  {
   "cell_type": "code",
   "execution_count": null,
   "metadata": {},
   "outputs": [],
   "source": [
    "def calc_acc(pred_tuples, gold_tuples):\n",
    "    assert len(pred_tuples) == len(gold_tuples)\n",
    "    pred_tuples = set(pred_tuples)\n",
    "    gold_tuples = set(gold_tuples)\n",
    "    corr_tuples = pred_tuples & gold_tuples\n",
    "    try:\n",
    "        acc = len(corr_tuples) / len(pred_tuples)\n",
    "    except:\n",
    "        acc = 0\n",
    "    return acc"
   ]
  },
  {
   "cell_type": "code",
   "execution_count": null,
   "metadata": {},
   "outputs": [],
   "source": [
    "read_files = [\n",
    "'c_to_hrt_dev_ACE05.jsonl',\n",
    "]\n",
    "read_dir = './pred_result'"
   ]
  },
  {
   "cell_type": "code",
   "execution_count": null,
   "metadata": {},
   "outputs": [],
   "source": [
    "for sub_dir in os.listdir(read_dir):\n",
    "    for read_file in read_files:\n",
    "        with jsonlines.open(os.path.join(read_dir, sub_dir, read_file), 'r') as f:\n",
    "            pred_datas = [data for data in f]\n",
    "        if 'c_to_hrt' in read_file:\n",
    "            pred_tuples = []\n",
    "            for index,data in enumerate(pred_datas):\n",
    "                ans = data['output'].strip()\n",
    "                answerKey_index = ord(ans)-ord('A')\n",
    "                pred_tuples.append((index, gold_options[index][answerKey_index]['text']))\n",
    "\n",
    "        acc = calc_acc(pred_tuples, gold_tuples)\n",
    "        print('pred_file:{}'.format(os.path.join(read_dir, sub_dir, read_file)))\n",
    "        print('acc:{}\\n'.format(round(acc*100,2)))\n",
    "for i in range(100):\n",
    "    print()"
   ]
  }
 ],
 "metadata": {
  "kernelspec": {
   "display_name": "llama_factory",
   "language": "python",
   "name": "python3"
  },
  "language_info": {
   "codemirror_mode": {
    "name": "ipython",
    "version": 3
   },
   "file_extension": ".py",
   "mimetype": "text/x-python",
   "name": "python",
   "nbconvert_exporter": "python",
   "pygments_lexer": "ipython3",
   "version": "3.9.16"
  },
  "orig_nbformat": 4
 },
 "nbformat": 4,
 "nbformat_minor": 2
}
