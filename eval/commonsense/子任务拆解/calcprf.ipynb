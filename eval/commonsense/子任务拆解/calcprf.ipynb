{
 "cells": [
  {
   "cell_type": "code",
   "execution_count": null,
   "metadata": {},
   "outputs": [],
   "source": [
    "import jsonlines\n",
    "import re\n",
    "import json\n",
    "import os"
   ]
  },
  {
   "cell_type": "code",
   "execution_count": null,
   "metadata": {},
   "outputs": [],
   "source": [
    "with jsonlines.open('xx/ori/CommonsenseQA/dev_rand_split.jsonl', 'r') as f:\n",
    "    gold_datas = [data for data in f]"
   ]
  },
  {
   "cell_type": "code",
   "execution_count": null,
   "metadata": {},
   "outputs": [],
   "source": [
    "gold_options = []\n",
    "gold_dict = {}\n",
    "for index,data in enumerate(gold_datas):\n",
    "    question = data['question']['stem']\n",
    "    gold_dict[question] = index\n",
    "    gold_options.append(data['question']['choices'])"
   ]
  },
  {
   "cell_type": "code",
   "execution_count": null,
   "metadata": {},
   "outputs": [],
   "source": [
    "gold_tuples = []\n",
    "for index, data in enumerate(gold_datas):\n",
    "    answerKey = data['answerKey']\n",
    "    answerKey_index = ord(answerKey)-ord('A')\n",
    "    answer_choice = data['question']['choices'][answerKey_index]\n",
    "    assert answer_choice['label'] == answerKey\n",
    "    gold_tuples.append((index, answer_choice['text']))"
   ]
  },
  {
   "cell_type": "code",
   "execution_count": null,
   "metadata": {},
   "outputs": [],
   "source": [
    "def calc_acc(pred_tuples, gold_tuples):\n",
    "    assert len(pred_tuples) == len(gold_tuples)\n",
    "    pred_tuples = set(pred_tuples)\n",
    "    gold_tuples = set(gold_tuples)\n",
    "    corr_tuples = pred_tuples & gold_tuples\n",
    "    try:\n",
    "        acc = len(corr_tuples) / len(pred_tuples)\n",
    "    except:\n",
    "        acc = 0\n",
    "    return acc"
   ]
  },
  {
   "cell_type": "code",
   "execution_count": null,
   "metadata": {},
   "outputs": [],
   "source": [
    "read_files = [\n",
    "'c_to_hrt_dev_Commonsense.jsonl',\n",
    "'yes_no_dev_Commonsense.jsonl',\n",
    "'fewer_option_dev_Commonsense.jsonl',\n",
    "'all_fewer_option_dev_Commonsense.jsonl'\n",
    "]\n",
    "read_dir = './pred_result'"
   ]
  },
  {
   "cell_type": "code",
   "execution_count": null,
   "metadata": {},
   "outputs": [],
   "source": [
    "for sub_dir in os.listdir(read_dir):\n",
    "    \n",
    "    for read_file in read_files:\n",
    "        with jsonlines.open(os.path.join(read_dir, sub_dir, read_file), 'r') as f:\n",
    "            pred_datas = [data for data in f]\n",
    "        if 'c_to_hrt' in read_file:\n",
    "            pred_tuples = []\n",
    "            for index,data in enumerate(pred_datas):\n",
    "                ans = data['output'].strip()\n",
    "                answerKey_index = ord(ans)-ord('A')\n",
    "                pred_tuples.append((index, gold_options[index][answerKey_index]['text']))\n",
    "            acc = calc_acc(pred_tuples, gold_tuples)\n",
    "            print('pred_file:{}'.format(os.path.join(read_dir, sub_dir, read_file)))\n",
    "            print('acc:{}\\n'.format(round(acc*100,2)))\n",
    "        if 'yes_no' in read_file:\n",
    "            pred_tuples = []\n",
    "            for index,data in enumerate(pred_datas):\n",
    "                text = data['text']\n",
    "                options = data['options']\n",
    "                is_finish = data['is_finish']\n",
    "                if is_finish:\n",
    "                    assert len(options) == 1\n",
    "                    ori_index = gold_dict[text]\n",
    "                    pred_tuples.append((ori_index, options[0]))\n",
    "        elif '/fewer_option' in read_file:\n",
    "            for data in pred_datas:\n",
    "                text = data['text']\n",
    "                options = data['options']\n",
    "                pred = data['output'].strip()\n",
    "                try:\n",
    "                    ans = options[ord(pred)-ord('A')]\n",
    "                except:\n",
    "                    ans = ''\n",
    "                ori_index = gold_dict[text]\n",
    "                pred_tuples.append((ori_index, ans))\n",
    "            acc = calc_acc(pred_tuples, gold_tuples)\n",
    "            print('pred_file:{}'.format(os.path.join(read_dir, sub_dir, read_file)))\n",
    "            print('acc:{}\\n'.format(round(acc*100,2)))\n",
    "        elif 'all_fewer_option_dev_Commonsense' in read_file:\n",
    "            pred_tuples = []\n",
    "            text_option_count = {}\n",
    "            for data in pred_datas:\n",
    "                text = data['text']\n",
    "                options = data['options']\n",
    "                if text not in text_option_count.keys():\n",
    "                    text_option_count[text] = {}\n",
    "                for option in options:\n",
    "                    if option not in text_option_count[text].keys():\n",
    "                        text_option_count[text][option] = 0\n",
    "                output = data['output']\n",
    "                try:\n",
    "                    ans = options[ord(output.strip()) - ord('A')]\n",
    "                except:\n",
    "                    ans = options[0]\n",
    "                \n",
    "                text_option_count[text][ans] += 1\n",
    "                text_option_count[text]['_'.join(list(sorted(options)))] = ans\n",
    "            for question, index in gold_dict.items():\n",
    "                now_text_option_count = text_option_count[question]\n",
    "                # Remove the special key that stores the sorted options\n",
    "                counts = {k: v for k, v in now_text_option_count.items() if '_' not in k}\n",
    "                # assert len(counts.keys()) == 5\n",
    "                \n",
    "                # Find the maximum count\n",
    "                max_count = max(counts.values())\n",
    "                \n",
    "                # Get all options with max count\n",
    "                candidates = [k for k, v in counts.items() if v == max_count]\n",
    "                \n",
    "                if len(candidates) == 1:\n",
    "                    ans = candidates[0]\n",
    "                else:\n",
    "                    # If there's a tie, use the answer stored with sorted options\n",
    "                    sorted_options_key = '_'.join(list(sorted(candidates)))\n",
    "                    ans = now_text_option_count[sorted_options_key]\n",
    "                pred_tuples.append((index, ans))\n",
    "            acc = calc_acc(pred_tuples, gold_tuples)\n",
    "            print('pred_file:{}'.format(os.path.join(read_dir, sub_dir, read_file)))\n",
    "            print('acc:{}\\n'.format(round(acc*100,2)))"
   ]
  },
  {
   "cell_type": "code",
   "execution_count": null,
   "metadata": {},
   "outputs": [],
   "source": [
    "text_option_count"
   ]
  },
  {
   "cell_type": "code",
   "execution_count": null,
   "metadata": {},
   "outputs": [],
   "source": [
    "candidates"
   ]
  },
  {
   "cell_type": "code",
   "execution_count": null,
   "metadata": {},
   "outputs": [],
   "source": [
    "data"
   ]
  }
 ],
 "metadata": {
  "kernelspec": {
   "display_name": "llama_factory",
   "language": "python",
   "name": "python3"
  },
  "language_info": {
   "codemirror_mode": {
    "name": "ipython",
    "version": 3
   },
   "file_extension": ".py",
   "mimetype": "text/x-python",
   "name": "python",
   "nbconvert_exporter": "python",
   "pygments_lexer": "ipython3",
   "version": "3.9.16"
  },
  "orig_nbformat": 4
 },
 "nbformat": 4,
 "nbformat_minor": 2
}
