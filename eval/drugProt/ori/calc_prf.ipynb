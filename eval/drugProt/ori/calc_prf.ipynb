{
 "cells": [
  {
   "cell_type": "code",
   "execution_count": null,
   "metadata": {},
   "outputs": [],
   "source": [
    "import jsonlines\n",
    "import re\n",
    "import json\n",
    "import os"
   ]
  },
  {
   "cell_type": "code",
   "execution_count": null,
   "metadata": {},
   "outputs": [],
   "source": [
    "with jsonlines.open('xx/ori/DrugProt/DrugProt_dev.jsonl', 'r') as f:\n",
    "    gold_datas = [data for data in f]"
   ]
  },
  {
   "cell_type": "code",
   "execution_count": null,
   "metadata": {},
   "outputs": [],
   "source": [
    "with open('xx/ori/DrugProt/schemas.json', 'r') as f:\n",
    "    schemas = json.load(f)"
   ]
  },
  {
   "cell_type": "code",
   "execution_count": null,
   "metadata": {},
   "outputs": [],
   "source": [
    "gold_tuples = []\n",
    "for index, data in enumerate(gold_datas):\n",
    "    for spo in data['spo_list']:\n",
    "        gold_tuples.append((index, spo['subject'], spo['subject_type'], spo['predicate'], spo['object']['@value'], spo['object_type']['@value']))"
   ]
  },
  {
   "cell_type": "code",
   "execution_count": null,
   "metadata": {},
   "outputs": [],
   "source": [
    "def calc_prf(pred_tuples, gold_tuples):\n",
    "    pred_tuples = set(pred_tuples)\n",
    "    gold_tuples = set(gold_tuples)\n",
    "    corr_tuples = pred_tuples & gold_tuples\n",
    "    try:\n",
    "        pre = len(corr_tuples) / len(pred_tuples)\n",
    "        rec = len(corr_tuples) / len(gold_tuples)\n",
    "        f1 = 2*pre*rec / (pre+rec)\n",
    "    except:\n",
    "        pre = 0\n",
    "        rec = 0\n",
    "        f1 = 0\n",
    "    return pre,rec,f1"
   ]
  },
  {
   "cell_type": "code",
   "execution_count": null,
   "metadata": {},
   "outputs": [],
   "source": [
    "read_files = [\n",
    "'c_to_hrt_dev_DrugProt.jsonl',\n",
    "]\n",
    "read_dir = './pred_result'"
   ]
  },
  {
   "cell_type": "code",
   "execution_count": null,
   "metadata": {},
   "outputs": [],
   "source": [
    "for sub_dir in os.listdir(read_dir):\n",
    "    for read_file in read_files:\n",
    "        with jsonlines.open(os.path.join(read_dir, sub_dir, read_file), 'r') as f:\n",
    "            pred_datas = [data for data in f]\n",
    "        if 'c_to_hrt' in read_file:\n",
    "            pattern = r'\\(([^|]+?)\\|\\|([^|]+?)\\|\\|([^|]+?)\\|\\|([^|]+?)\\|\\|([^|]+?)\\)\\s*\\n'\n",
    "            pred_tuples = []\n",
    "            for index,data in enumerate(pred_datas):\n",
    "                finds = re.findall(pattern, data['output'])\n",
    "                for item in finds:\n",
    "                    pred_tuples.append((index, item[0], item[1], item[2], item[3], item[4]))\n",
    "\n",
    "        pre,rec,f1 = calc_prf(pred_tuples, gold_tuples)\n",
    "        print('pred_file:{}'.format(os.path.join(read_dir, sub_dir, read_file)))\n",
    "        print('pre:{}\\trec:{}\\tf1:{}\\n'.format(round(pre*100,2), round(rec*100, 2), round(f1*100, 2)))\n",
    "for i in range(100):\n",
    "    print()"
   ]
  }
 ],
 "metadata": {
  "kernelspec": {
   "display_name": "llama_factory",
   "language": "python",
   "name": "python3"
  },
  "language_info": {
   "codemirror_mode": {
    "name": "ipython",
    "version": 3
   },
   "file_extension": ".py",
   "mimetype": "text/x-python",
   "name": "python",
   "nbconvert_exporter": "python",
   "pygments_lexer": "ipython3",
   "version": "3.9.16"
  },
  "orig_nbformat": 4
 },
 "nbformat": 4,
 "nbformat_minor": 2
}
