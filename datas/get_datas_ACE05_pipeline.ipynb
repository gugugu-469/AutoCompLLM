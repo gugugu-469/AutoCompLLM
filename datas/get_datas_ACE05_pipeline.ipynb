{
 "cells": [
  {
   "cell_type": "code",
   "execution_count": 1,
   "metadata": {},
   "outputs": [],
   "source": [
    "import os\n",
    "import json\n",
    "import jsonlines\n",
    "from collections import defaultdict\n",
    "import time"
   ]
  },
  {
   "cell_type": "code",
   "execution_count": 2,
   "metadata": {},
   "outputs": [],
   "source": [
    "all_start = time.time()"
   ]
  },
  {
   "cell_type": "code",
   "execution_count": 3,
   "metadata": {},
   "outputs": [],
   "source": [
    "# CMeIE\n",
    "# A. c→(h,t)\n",
    "out_name = 'c_to_ht_withtype'\n",
    "inp_prompt = '''You are currently a senior information extraction expert.\n",
    "Your task is to extract all possible trigger-argument pairs from the given text. First, identify potential event triggers. Then, based on the extracted triggers and the given text, extract the corresponding arguments. For each argument, identify its role type from the given list of argument role types.\n",
    "The given list of argument role types is: {role_list}.\n",
    "The output format of this task is: (event trigger|| trigger|| argument|| argument role).\n",
    "Given text: \"{text}\"\n",
    "'''\n",
    "oup_prompt = '{answer_text}'"
   ]
  },
  {
   "cell_type": "code",
   "execution_count": 4,
   "metadata": {},
   "outputs": [],
   "source": [
    "data_file_list = [\n",
    "    'ACE05-train.jsonl',\n",
    "    'ACE05-dev.jsonl',\n",
    "    'ACE05-test.jsonl',\n",
    "]\n",
    "out_file_list = [\n",
    "    'train.json',\n",
    "    'dev.json',\n",
    "    'test.json'\n",
    "]"
   ]
  },
  {
   "cell_type": "code",
   "execution_count": 5,
   "metadata": {},
   "outputs": [],
   "source": [
    "read_dir = './ori/ACE05/'\n",
    "out_dir = './ACE05/pipeline拆解'\n",
    "out_dir = os.path.join(out_dir,out_name)\n",
    "if not os.path.exists(out_dir):\n",
    "    os.makedirs(out_dir)\n",
    "with open(os.path.join(read_dir,'labels.json'),'r') as f:\n",
    "    trip_types_list = json.load(f)"
   ]
  },
  {
   "cell_type": "code",
   "execution_count": 6,
   "metadata": {},
   "outputs": [],
   "source": [
    "event_types, role_types = trip_types_list\n",
    "event_types = event_types.split(',')\n",
    "event_types = [item.strip() for item in event_types]\n",
    "role_types = role_types.split(',')\n",
    "role_types = [item.strip() for item in role_types]"
   ]
  },
  {
   "cell_type": "code",
   "execution_count": 7,
   "metadata": {},
   "outputs": [],
   "source": [
    "event_types = str(event_types).replace(\"'\",'\"')\n",
    "role_types = str(role_types).replace(\"'\",'\"')"
   ]
  },
  {
   "cell_type": "code",
   "execution_count": 8,
   "metadata": {},
   "outputs": [
    {
     "name": "stdout",
     "output_type": "stream",
     "text": [
      "out_name:c_to_ht_withtype\n",
      "cost:0.87秒\n"
     ]
    }
   ],
   "source": [
    "start = time.time()\n",
    "print('out_name:{}'.format(out_name))\n",
    "for data_file,out_file in zip(data_file_list,out_file_list):\n",
    "    read_path = os.path.join(read_dir,data_file)\n",
    "    out_path = os.path.join(out_dir,out_file)\n",
    "    with jsonlines.open(read_path,'r') as f:\n",
    "        datas = [data for data in f]\n",
    "    with jsonlines.open(out_path,'w') as fw:\n",
    "        for data in datas:\n",
    "            inp = inp_prompt.format(role_list=role_types,event_list = event_types,text=data['text'])\n",
    "            spo_list = [(item['subject'],item['subject_type'],item['object']['@value'], item['object_type']['@value']) for item in data['spo_list']]\n",
    "            processed_spo_list = []\n",
    "            for spo_item in spo_list:\n",
    "                if spo_item not in processed_spo_list:\n",
    "                    processed_spo_list.append(spo_item)\n",
    "            oup = '\\n'.join(['({}|| {}|| {}|| {})'.format(item[0],item[1],item[2], item[3]) for item in processed_spo_list])\n",
    "            oup = '```\\n' + oup.strip() + '\\n```'\n",
    "            out_data = {\n",
    "                'instruction':inp,\n",
    "                'input':'',\n",
    "                'output':oup,\n",
    "                'text':data['text'],\n",
    "                'spo_list':data['spo_list']\n",
    "            }\n",
    "            fw.write(out_data)\n",
    "end = time.time()\n",
    "print('cost:{}秒'.format(round(end-start, 2)))"
   ]
  },
  {
   "cell_type": "code",
   "execution_count": 9,
   "metadata": {},
   "outputs": [],
   "source": [
    "# CMeIE\n",
    "# A. c→(r)\n",
    "out_name = 'c_to_r_withtype'\n",
    "inp_prompt = '''You are currently a senior expert in event detection.\n",
    "Your task is to identify potential event types from the given list of event types based on the given text.\n",
    "The given list of event types: {event_list}.\n",
    "The output format of the task is: (event type).\n",
    "Given text: \"{text}\"\n",
    "'''\n",
    "oup_prompt = '{answer_text}'"
   ]
  },
  {
   "cell_type": "code",
   "execution_count": 10,
   "metadata": {},
   "outputs": [],
   "source": [
    "data_file_list = [\n",
    "    'ACE05-train.jsonl',\n",
    "    'ACE05-dev.jsonl',\n",
    "    'ACE05-test.jsonl',\n",
    "]\n",
    "out_file_list = [\n",
    "    'train.json',\n",
    "    'dev.json',\n",
    "    'test.json'\n",
    "]"
   ]
  },
  {
   "cell_type": "code",
   "execution_count": 11,
   "metadata": {},
   "outputs": [],
   "source": [
    "read_dir = './ori/ACE05/'\n",
    "out_dir = './ACE05/pipeline拆解'\n",
    "out_dir = os.path.join(out_dir,out_name)\n",
    "if not os.path.exists(out_dir):\n",
    "    os.makedirs(out_dir)"
   ]
  },
  {
   "cell_type": "code",
   "execution_count": 12,
   "metadata": {},
   "outputs": [
    {
     "name": "stdout",
     "output_type": "stream",
     "text": [
      "out_name:c_to_r_withtype\n",
      "cost:0.86秒\n"
     ]
    }
   ],
   "source": [
    "start = time.time()\n",
    "print('out_name:{}'.format(out_name))\n",
    "for data_file,out_file in zip(data_file_list,out_file_list):\n",
    "    read_path = os.path.join(read_dir,data_file)\n",
    "    out_path = os.path.join(out_dir,out_file)\n",
    "    with jsonlines.open(read_path,'r') as f:\n",
    "        datas = [data for data in f]\n",
    "    with jsonlines.open(out_path,'w') as fw:\n",
    "        for data in datas:\n",
    "            inp = inp_prompt.format(role_list=role_types,event_list = event_types,text=data['text'])\n",
    "            spo_list = []\n",
    "            for item in data['spo_list']:\n",
    "                if item['predicate'] not in spo_list:\n",
    "                    spo_list.append(item['predicate'])\n",
    "            processed_spo_list = []\n",
    "            for spo_item in spo_list:\n",
    "                if spo_item not in processed_spo_list:\n",
    "                    processed_spo_list.append(spo_item)\n",
    "            oup = '\\n'.join(['({})'.format(item) for item in processed_spo_list])\n",
    "            oup = '```\\n' + oup.strip() + '\\n```'\n",
    "            out_data = {\n",
    "                'instruction':inp,\n",
    "                'input':'',\n",
    "                'output':oup,\n",
    "                'text':data['text'],\n",
    "                'spo_list':data['spo_list']\n",
    "            }\n",
    "            fw.write(out_data)\n",
    "end = time.time()\n",
    "print('cost:{}秒'.format(round(end-start, 2)))"
   ]
  },
  {
   "cell_type": "code",
   "execution_count": 13,
   "metadata": {},
   "outputs": [],
   "source": [
    "# CMeIE\n",
    "# B.  r[s1] c→(h,t)\n",
    "out_name = 'rc_to_ht_withtype'\n",
    "inp_prompt = '''You are currently a senior information extraction expert.\n",
    "Your task is to extract all possible trigger-argument pairs from the given text and event type. First, identify potential event triggers. Then, based on the extracted triggers and the given text, extract the corresponding arguments. For each argument, identify its role type from the given list of argument role types.\n",
    "The given list of argument role types is: {role_list}.\n",
    "The output format of this task is: (event trigger|| trigger|| argument|| argument role).\n",
    "Given text: \"{text}\"\n",
    "Given event type: \"{event_type}\"\n",
    "'''\n",
    "oup_prompt = '{answer_text}'"
   ]
  },
  {
   "cell_type": "code",
   "execution_count": 14,
   "metadata": {},
   "outputs": [],
   "source": [
    "data_file_list = [\n",
    "    'ACE05-train.jsonl',\n",
    "    'ACE05-dev.jsonl',\n",
    "    'ACE05-test.jsonl',\n",
    "]\n",
    "out_file_list = [\n",
    "    'train.json',\n",
    "    'dev.json',\n",
    "    'test.json'\n",
    "]"
   ]
  },
  {
   "cell_type": "code",
   "execution_count": 15,
   "metadata": {},
   "outputs": [],
   "source": [
    "read_dir = './ori/ACE05/'\n",
    "out_dir = './ACE05/pipeline拆解'\n",
    "out_dir = os.path.join(out_dir,out_name)\n",
    "if not os.path.exists(out_dir):\n",
    "    os.makedirs(out_dir)\n"
   ]
  },
  {
   "cell_type": "code",
   "execution_count": 16,
   "metadata": {},
   "outputs": [
    {
     "name": "stdout",
     "output_type": "stream",
     "text": [
      "out_name:rc_to_ht_withtype\n",
      "cost:0.88秒\n"
     ]
    }
   ],
   "source": [
    "start = time.time()\n",
    "print('out_name:{}'.format(out_name))\n",
    "for data_file,out_file in zip(data_file_list,out_file_list):\n",
    "    read_path = os.path.join(read_dir,data_file)\n",
    "    out_path = os.path.join(out_dir,out_file)\n",
    "    with jsonlines.open(read_path,'r') as f:\n",
    "        datas = [data for data in f]\n",
    "    with jsonlines.open(out_path,'w') as fw:\n",
    "        for data in datas:\n",
    "            relation_to_ht = defaultdict(list)\n",
    "            for spo_item in data['spo_list']:\n",
    "                sub = spo_item['subject']\n",
    "                sub_type = spo_item['subject_type']\n",
    "                predicate = spo_item['predicate']\n",
    "                obj = spo_item['object']['@value']\n",
    "                obj_type = spo_item['object_type']['@value']\n",
    "                relation_to_ht[predicate].append((sub, sub_type, obj, obj_type))\n",
    "            for predicate in relation_to_ht.keys():\n",
    "                spo_list = relation_to_ht[predicate]\n",
    "                inp = inp_prompt.format(role_list=role_types,event_list = event_types,text=data['text'], event_type = predicate)\n",
    "                oup = '\\n'.join(['({}|| {}|| {}|| {})'.format(item[0],item[1],item[2], item[3]) for item in spo_list])\n",
    "                oup = '```\\n' + oup.strip() + '\\n```'\n",
    "                out_data = {\n",
    "                    'instruction':inp,\n",
    "                    'input':'',\n",
    "                    'output':oup,\n",
    "                    'text':data['text'],\n",
    "                    'spo_list':data['spo_list']\n",
    "                }\n",
    "                fw.write(out_data)\n",
    "end = time.time()\n",
    "print('cost:{}秒'.format(round(end-start, 2)))"
   ]
  },
  {
   "cell_type": "code",
   "execution_count": 17,
   "metadata": {},
   "outputs": [],
   "source": [
    "# CMeIE\n",
    "# C. h[s1]t [s2]c→r\n",
    "out_name = 'htc_to_r_withtype'\n",
    "inp_prompt = '''You are currently a senior expert in event detection.\n",
    "Your task is to identify potential event types from the given list of event types based on the given text and trigger-argument pair. The input format of the trigger-argument pair is: (event trigger, trigger, argument, argument role).\n",
    "The given list of event types: {event_list}.\n",
    "The output format of the task is: (Event Type).\n",
    "Given text: \"{text}\"\n",
    "Given trigger-argument pair: ({trigger}|| trigger|| {arg_name}|| {arg_role})\n",
    "'''\n",
    "oup_prompt = '{answer_text}'"
   ]
  },
  {
   "cell_type": "code",
   "execution_count": 18,
   "metadata": {},
   "outputs": [],
   "source": [
    "data_file_list = [\n",
    "    'ACE05-train.jsonl',\n",
    "    'ACE05-dev.jsonl',\n",
    "    'ACE05-test.jsonl',\n",
    "]\n",
    "out_file_list = [\n",
    "    'train.json',\n",
    "    'dev.json',\n",
    "    'test.json'\n",
    "]"
   ]
  },
  {
   "cell_type": "code",
   "execution_count": 19,
   "metadata": {},
   "outputs": [],
   "source": [
    "read_dir = './ori/ACE05/'\n",
    "out_dir = './ACE05/pipeline拆解'\n",
    "out_dir = os.path.join(out_dir,out_name)\n",
    "if not os.path.exists(out_dir):\n",
    "    os.makedirs(out_dir)"
   ]
  },
  {
   "cell_type": "code",
   "execution_count": 20,
   "metadata": {},
   "outputs": [
    {
     "name": "stdout",
     "output_type": "stream",
     "text": [
      "out_name:htc_to_r_withtype\n",
      "cost:0.79秒\n"
     ]
    }
   ],
   "source": [
    "start = time.time()\n",
    "print('out_name:{}'.format(out_name))\n",
    "for data_file,out_file in zip(data_file_list,out_file_list):\n",
    "    read_path = os.path.join(read_dir,data_file)\n",
    "    out_path = os.path.join(out_dir,out_file)\n",
    "    with jsonlines.open(read_path,'r') as f:\n",
    "        datas = [data for data in f]\n",
    "    with jsonlines.open(out_path,'w') as fw:\n",
    "        for data in datas:\n",
    "            ht_to_relation = defaultdict(list)\n",
    "            for spo_item in data['spo_list']:\n",
    "                sub = spo_item['subject']\n",
    "                sub_type = spo_item['subject_type']\n",
    "                predicate = spo_item['predicate']\n",
    "                obj = spo_item['object']['@value']\n",
    "                obj_type = spo_item['object_type']['@value']\n",
    "                ht_item = (sub, sub_type, obj, obj_type)\n",
    "                ht_to_relation[ht_item].append(predicate)\n",
    "            for ht_item in ht_to_relation.keys():\n",
    "                predicate = ht_to_relation[ht_item]\n",
    "                inp = inp_prompt.format(role_list=role_types,event_list = event_types,text=data['text'], trigger = ht_item[0], arg_name = ht_item[2], arg_role = ht_item[3])\n",
    "                oup = '\\n'.join(['({})'.format(item) for item in predicate])\n",
    "                oup = '```\\n' + oup.strip() + '\\n```'\n",
    "                out_data = {\n",
    "                    'instruction':inp,\n",
    "                    'input':'',\n",
    "                    'output':oup,\n",
    "                    'text':data['text'],\n",
    "                    'spo_list':data['spo_list']\n",
    "                }\n",
    "                fw.write(out_data)\n",
    "end = time.time()\n",
    "print('cost:{}秒'.format(round(end-start, 2)))"
   ]
  },
  {
   "cell_type": "code",
   "execution_count": 21,
   "metadata": {},
   "outputs": [
    {
     "data": {
      "text/plain": [
       "9.844723224639893"
      ]
     },
     "execution_count": 21,
     "metadata": {},
     "output_type": "execute_result"
    }
   ],
   "source": [
    "all_end = time.time()\n",
    "all_end-all_start"
   ]
  }
 ],
 "metadata": {
  "kernelspec": {
   "display_name": "llama_factory",
   "language": "python",
   "name": "python3"
  },
  "language_info": {
   "codemirror_mode": {
    "name": "ipython",
    "version": 3
   },
   "file_extension": ".py",
   "mimetype": "text/x-python",
   "name": "python",
   "nbconvert_exporter": "python",
   "pygments_lexer": "ipython3",
   "version": "3.9.16"
  },
  "orig_nbformat": 4
 },
 "nbformat": 4,
 "nbformat_minor": 2
}
