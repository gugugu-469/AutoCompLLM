{
 "cells": [
  {
   "cell_type": "code",
   "execution_count": 1,
   "metadata": {},
   "outputs": [],
   "source": [
    "import os\n",
    "import json\n",
    "import jsonlines\n",
    "from collections import defaultdict\n",
    "import time"
   ]
  },
  {
   "cell_type": "code",
   "execution_count": 2,
   "metadata": {},
   "outputs": [],
   "source": [
    "all_start = time.time()"
   ]
  },
  {
   "cell_type": "code",
   "execution_count": 3,
   "metadata": {},
   "outputs": [],
   "source": [
    "# CMeIE\n",
    "# A. c→(h,r)\n",
    "out_name = 'c_to_hr_withtype'\n",
    "inp_prompt = '''You are currently a senior expert in information extraction.\n",
    "Your task is to identify potential event triggers from the given text.\n",
    "The output format of the task is: (event trigger|| trigger).\n",
    "Given text: \"{text}\"\n",
    "'''\n",
    "oup_prompt = '{answer_text}'"
   ]
  },
  {
   "cell_type": "code",
   "execution_count": 4,
   "metadata": {},
   "outputs": [],
   "source": [
    "data_file_list = [\n",
    "    'ACE05-train.jsonl',\n",
    "    'ACE05-dev.jsonl',\n",
    "    'ACE05-test.jsonl',\n",
    "]\n",
    "out_file_list = [\n",
    "    'train.json',\n",
    "    'dev.json',\n",
    "    'test.json'\n",
    "]"
   ]
  },
  {
   "cell_type": "code",
   "execution_count": 5,
   "metadata": {},
   "outputs": [],
   "source": [
    "read_dir = './ori/ACE05/'\n",
    "out_dir = './ACE05/双向拆解'\n",
    "out_dir = os.path.join(out_dir,out_name)\n",
    "if not os.path.exists(out_dir):\n",
    "    os.makedirs(out_dir)\n",
    "with open(os.path.join(read_dir,'labels.json'),'r') as f:\n",
    "    trip_types_list = json.load(f)"
   ]
  },
  {
   "cell_type": "code",
   "execution_count": 6,
   "metadata": {},
   "outputs": [],
   "source": [
    "event_types, role_types = trip_types_list\n",
    "event_types = event_types.split(',')\n",
    "event_types = [item.strip() for item in event_types]\n",
    "role_types = role_types.split(',')\n",
    "role_types = [item.strip() for item in role_types]"
   ]
  },
  {
   "cell_type": "code",
   "execution_count": 7,
   "metadata": {},
   "outputs": [],
   "source": [
    "event_types = str(event_types).replace(\"'\",'\"')\n",
    "role_types = str(role_types).replace(\"'\",'\"')"
   ]
  },
  {
   "cell_type": "code",
   "execution_count": 8,
   "metadata": {},
   "outputs": [
    {
     "name": "stdout",
     "output_type": "stream",
     "text": [
      "out_name:c_to_hr_withtype\n",
      "cost:1.41秒\n"
     ]
    }
   ],
   "source": [
    "start = time.time()\n",
    "print('out_name:{}'.format(out_name))\n",
    "for data_file,out_file in zip(data_file_list,out_file_list):\n",
    "    read_path = os.path.join(read_dir,data_file)\n",
    "    out_path = os.path.join(out_dir,out_file)\n",
    "    with jsonlines.open(read_path,'r') as f:\n",
    "        datas = [data for data in f]\n",
    "    with jsonlines.open(out_path,'w') as fw:\n",
    "        for data in datas:\n",
    "            inp = inp_prompt.format(role_list=role_types,event_list = event_types,text=data['text'])\n",
    "            spo_list = [(item['subject'],item['subject_type'],item['predicate']) for item in data['spo_list']]\n",
    "            processed_spo_list = []\n",
    "            for spo_item in spo_list:\n",
    "                if spo_item not in processed_spo_list:\n",
    "                    processed_spo_list.append(spo_item)\n",
    "            oup = '\\n'.join(['({}|| {})'.format(item[0].strip(),item[1].strip()) for item in processed_spo_list])\n",
    "            oup = '```\\n' + oup.strip() + '\\n```'\n",
    "            out_data = {\n",
    "                'instruction':inp,\n",
    "                'input':'',\n",
    "                'output':oup,\n",
    "                'text':data['text'],\n",
    "                'spo_list':data['spo_list']\n",
    "            }\n",
    "            fw.write(out_data)\n",
    "end = time.time()\n",
    "print('cost:{}秒'.format(round(end-start, 2)))"
   ]
  },
  {
   "cell_type": "code",
   "execution_count": 9,
   "metadata": {},
   "outputs": [],
   "source": [
    "# CMeIE\n",
    "# B. c→(t,r)\n",
    "out_name = 'c_to_tr_withtype'\n",
    "inp_prompt = '''You are currently a senior expert in information extraction.\n",
    "Your task is to first extract the possible arguments from the given text. Then, for each extracted argument, determine its corresponding argument role from the given list of argument role types: {role_list}.\n",
    "The output format of the task is: (argument|| argument role).\n",
    "Given text: \"{text}\"\n",
    "'''\n",
    "oup_prompt = '{answer_text}'"
   ]
  },
  {
   "cell_type": "code",
   "execution_count": 10,
   "metadata": {},
   "outputs": [],
   "source": [
    "data_file_list = [\n",
    "    'ACE05-train.jsonl',\n",
    "    'ACE05-dev.jsonl',\n",
    "    'ACE05-test.jsonl',\n",
    "]\n",
    "out_file_list = [\n",
    "    'train.json',\n",
    "    'dev.json',\n",
    "    'test.json'\n",
    "]"
   ]
  },
  {
   "cell_type": "code",
   "execution_count": 11,
   "metadata": {},
   "outputs": [],
   "source": [
    "read_dir = './ori/ACE05/'\n",
    "out_dir = './ACE05/双向拆解'\n",
    "out_dir = os.path.join(out_dir,out_name)\n",
    "if not os.path.exists(out_dir):\n",
    "    os.makedirs(out_dir)\n"
   ]
  },
  {
   "cell_type": "code",
   "execution_count": 12,
   "metadata": {},
   "outputs": [
    {
     "name": "stdout",
     "output_type": "stream",
     "text": [
      "out_name:c_to_tr_withtype\n",
      "cost:0.78秒\n"
     ]
    }
   ],
   "source": [
    "start = time.time()\n",
    "print('out_name:{}'.format(out_name))\n",
    "for data_file,out_file in zip(data_file_list,out_file_list):\n",
    "    read_path = os.path.join(read_dir,data_file)\n",
    "    out_path = os.path.join(out_dir,out_file)\n",
    "    with jsonlines.open(read_path,'r') as f:\n",
    "        datas = [data for data in f]\n",
    "    with jsonlines.open(out_path,'w') as fw:\n",
    "        for data in datas:\n",
    "            inp = inp_prompt.format(role_list=role_types,event_list = event_types,text=data['text'])\n",
    "            spo_list = [(item['object']['@value'],item['object_type']['@value'],item['predicate']) for item in data['spo_list']]\n",
    "            processed_spo_list = []\n",
    "            for spo_item in spo_list:\n",
    "                if spo_item not in processed_spo_list:\n",
    "                    processed_spo_list.append(spo_item)\n",
    "            oup = '\\n'.join(['({}|| {})'.format(item[0].strip(),item[1].strip(),item[2].strip()) for item in processed_spo_list])\n",
    "            oup = '```\\n' + oup.strip() + '\\n```'\n",
    "            out_data = {\n",
    "                'instruction':inp,\n",
    "                'input':'',\n",
    "                'output':oup,\n",
    "                'text':data['text'],\n",
    "                'spo_list':data['spo_list']\n",
    "            }\n",
    "            fw.write(out_data)\n",
    "end = time.time()\n",
    "print('cost:{}秒'.format(round(end-start, 2)))"
   ]
  },
  {
   "cell_type": "code",
   "execution_count": 13,
   "metadata": {},
   "outputs": [],
   "source": [
    "# CMeIE\n",
    "# C. h[s1]c→(t,r)\n",
    "out_name = 'sc_to_tr_withtype'\n",
    "inp_prompt = '''You are currently a senior expert in information extraction.\n",
    "Your task is to first extract the possible arguments from the given text and the event trigger. Then, for each extracted argument, determine its corresponding argument role from the given list of argument role types: {role_list}.\n",
    "Next, based on the given text, event trigger, the extracted arguments, and their argument roles, identify the corresponding event types from the given list of event types: {event_list}.\n",
    "The output format of the task is: (argument|| argument role|| event type).\n",
    "Given text: \"{text}\"\n",
    "Given event trigger: \"{trigger}\"\n",
    "'''\n",
    "oup_prompt = '{answer_text}'"
   ]
  },
  {
   "cell_type": "code",
   "execution_count": 14,
   "metadata": {},
   "outputs": [],
   "source": [
    "data_file_list = [\n",
    "    'ACE05-train.jsonl',\n",
    "    'ACE05-dev.jsonl',\n",
    "    'ACE05-test.jsonl',\n",
    "]\n",
    "out_file_list = [\n",
    "    'train.json',\n",
    "    'dev.json',\n",
    "    'test.json'\n",
    "]"
   ]
  },
  {
   "cell_type": "code",
   "execution_count": 15,
   "metadata": {},
   "outputs": [],
   "source": [
    "read_dir = './ori/ACE05/'\n",
    "out_dir = './ACE05/双向拆解'\n",
    "out_dir = os.path.join(out_dir,out_name)\n",
    "if not os.path.exists(out_dir):\n",
    "    os.makedirs(out_dir)\n"
   ]
  },
  {
   "cell_type": "code",
   "execution_count": 16,
   "metadata": {},
   "outputs": [
    {
     "name": "stdout",
     "output_type": "stream",
     "text": [
      "out_name:sc_to_tr_withtype\n",
      "cost:0.76秒\n"
     ]
    }
   ],
   "source": [
    "start = time.time()\n",
    "print('out_name:{}'.format(out_name))\n",
    "for data_file,out_file in zip(data_file_list,out_file_list):\n",
    "    read_path = os.path.join(read_dir,data_file)\n",
    "    out_path = os.path.join(out_dir,out_file)\n",
    "    with jsonlines.open(read_path,'r') as f:\n",
    "        datas = [data for data in f]\n",
    "    with jsonlines.open(out_path,'w') as fw:\n",
    "        for data in datas:\n",
    "            spo_def_list = defaultdict(list)\n",
    "            for spo_item in data['spo_list']:\n",
    "                subject = spo_item['subject']\n",
    "                subject_type = spo_item['subject_type']\n",
    "                predicate = spo_item['predicate']\n",
    "                obj = spo_item['object']['@value']\n",
    "                obj_type = spo_item['object_type']['@value']\n",
    "                spo_def_list[(subject,subject_type)].append((obj,obj_type,predicate))\n",
    "            for sub,sub_type in spo_def_list.keys():\n",
    "                inp = inp_prompt.format(role_list=role_types,event_list = event_types,text=data['text'],trigger=sub,subject_type = sub_type)\n",
    "                spo_list = spo_def_list[(sub,sub_type)]\n",
    "                oup = '\\n'.join(['（{}|| {}|| {}）'.format(item[0].strip(),item[1].strip(),item[2].strip()) for item in spo_list])\n",
    "                oup = '```\\n' + oup.strip() + '\\n```'\n",
    "                out_data = {\n",
    "                    'instruction':inp,\n",
    "                    'input':'',\n",
    "                    'output':oup,\n",
    "                    'text':data['text'],\n",
    "                    'spo_list':data['spo_list']\n",
    "                }\n",
    "                fw.write(out_data)\n",
    "end = time.time()\n",
    "print('cost:{}秒'.format(round(end-start, 2)))"
   ]
  },
  {
   "cell_type": "code",
   "execution_count": 17,
   "metadata": {},
   "outputs": [],
   "source": [
    "# CMeIE\n",
    "# D. t[s1]c→(h,r). \n",
    "out_name = 'sc_to_hr_withtype'\n",
    "inp_prompt = '''You are currently a senior expert in information extraction.\n",
    "Your task is to identify potential event triggers from the given text and the argument. Then, based on each trigger, determine the potential event type from the given list of event types {event_list}.\n",
    "The input format of the argument is: (argument, argument role).\n",
    "The output format of the task is: (event trigger|| trigger|| event type).\n",
    "Given text: \"{text}\"\n",
    "Given argument: ({arg_name}, {arg_role})\n",
    "'''\n",
    "oup_prompt = '{answer_text}'"
   ]
  },
  {
   "cell_type": "code",
   "execution_count": 18,
   "metadata": {},
   "outputs": [],
   "source": [
    "data_file_list = [\n",
    "    'ACE05-train.jsonl',\n",
    "    'ACE05-dev.jsonl',\n",
    "    'ACE05-test.jsonl',\n",
    "]\n",
    "out_file_list = [\n",
    "    'train.json',\n",
    "    'dev.json',\n",
    "    'test.json'\n",
    "]"
   ]
  },
  {
   "cell_type": "code",
   "execution_count": 19,
   "metadata": {},
   "outputs": [],
   "source": [
    "read_dir = './ori/ACE05/'\n",
    "out_dir = './ACE05/双向拆解'\n",
    "out_dir = os.path.join(out_dir,out_name)\n",
    "if not os.path.exists(out_dir):\n",
    "    os.makedirs(out_dir)\n"
   ]
  },
  {
   "cell_type": "code",
   "execution_count": 20,
   "metadata": {},
   "outputs": [
    {
     "name": "stdout",
     "output_type": "stream",
     "text": [
      "out_name:sc_to_hr_withtype\n",
      "cost:0.79秒\n"
     ]
    }
   ],
   "source": [
    "start = time.time()\n",
    "print('out_name:{}'.format(out_name))\n",
    "for data_file,out_file in zip(data_file_list,out_file_list):\n",
    "    read_path = os.path.join(read_dir,data_file)\n",
    "    out_path = os.path.join(out_dir,out_file)\n",
    "    with jsonlines.open(read_path,'r') as f:\n",
    "        datas = [data for data in f]\n",
    "    with jsonlines.open(out_path,'w') as fw:\n",
    "        for data in datas:\n",
    "            spo_def_list = defaultdict(list)\n",
    "            for spo_item in data['spo_list']:\n",
    "                subject = spo_item['subject']\n",
    "                subject_type = spo_item['subject_type']\n",
    "                predicate = spo_item['predicate']\n",
    "                obj = spo_item['object']['@value']\n",
    "                obj_type = spo_item['object_type']['@value']\n",
    "                spo_def_list[(obj,obj_type)].append((subject,subject_type,predicate))\n",
    "            for obj,obj_type in spo_def_list.keys():\n",
    "                inp = inp_prompt.format(role_list=role_types,event_list = event_types,text=data['text'],arg_name=obj, arg_role = obj_type)\n",
    "                spo_list = spo_def_list[(obj,obj_type)]\n",
    "                oup = '\\n'.join(['({}|| {}|| {})'.format(item[0].strip(),item[1].strip(),item[2].strip()) for item in spo_list])\n",
    "                oup = '```\\n' + oup.strip() + '\\n```'\n",
    "                out_data = {\n",
    "                    'instruction':inp,\n",
    "                    'input':'',\n",
    "                    'output':oup,\n",
    "                    'text':data['text'],\n",
    "                    'spo_list':data['spo_list']\n",
    "                }\n",
    "                fw.write(out_data)\n",
    "end = time.time()\n",
    "print('cost:{}秒'.format(round(end-start, 2)))"
   ]
  },
  {
   "cell_type": "code",
   "execution_count": 21,
   "metadata": {},
   "outputs": [],
   "source": [
    "# CMeIE\n",
    "# A0. c→(h,r,t)\n",
    "out_name = 'c_to_hrt_withtype'\n",
    "inp_prompt = '''You are currently a senior information extraction expert.\n",
    "Your task is to extract event information from the given text. First, extract trigger–argument pairs from the given text. Then, for each extracted argument, identify the corresponding argument role type from the provided list of argument role types: {role_list}.\n",
    " Next, based on the trigger–argument pairs and their identified argument role types, choose the appropriate event type from the given list of event types: {event_list}.\n",
    "The output format of this task is: (event trigger|| trigger|| event type|| argument|| argument role).\n",
    "Given text: \"{text}\"\n",
    "'''\n",
    "oup_prompt = '{answer_text}'"
   ]
  },
  {
   "cell_type": "code",
   "execution_count": 22,
   "metadata": {},
   "outputs": [],
   "source": [
    "data_file_list = [\n",
    "    'ACE05-train.jsonl',\n",
    "    'ACE05-dev.jsonl',\n",
    "    'ACE05-test.jsonl',\n",
    "]\n",
    "out_file_list = [\n",
    "    'train.json',\n",
    "    'dev.json',\n",
    "    'test.json'\n",
    "]"
   ]
  },
  {
   "cell_type": "code",
   "execution_count": 23,
   "metadata": {},
   "outputs": [],
   "source": [
    "read_dir = './ori/ACE05/'\n",
    "out_dir = './ACE05'\n",
    "out_dir = os.path.join(out_dir,out_name)\n",
    "if not os.path.exists(out_dir):\n",
    "    os.makedirs(out_dir)"
   ]
  },
  {
   "cell_type": "code",
   "execution_count": 24,
   "metadata": {},
   "outputs": [
    {
     "name": "stdout",
     "output_type": "stream",
     "text": [
      "out_name:c_to_hrt_withtype\n",
      "cost:0.92秒\n"
     ]
    }
   ],
   "source": [
    "start = time.time()\n",
    "print('out_name:{}'.format(out_name))\n",
    "for data_file,out_file in zip(data_file_list,out_file_list):\n",
    "    read_path = os.path.join(read_dir,data_file)\n",
    "    out_path = os.path.join(out_dir,out_file)\n",
    "    with jsonlines.open(read_path,'r') as f:\n",
    "        datas = [data for data in f]\n",
    "    with jsonlines.open(out_path,'w') as fw:\n",
    "        for data in datas:\n",
    "            inp = inp_prompt.format(role_list=role_types,event_list = event_types,text=data['text'])\n",
    "            spo_list = [(item['subject'],item['subject_type'],item['predicate'],item['object']['@value'],item['object_type']['@value']) for item in data['spo_list']]\n",
    "            processed_spo_list = []\n",
    "            for spo_item in spo_list:\n",
    "                if spo_item not in processed_spo_list:\n",
    "                    processed_spo_list.append(spo_item)\n",
    "            oup = '\\n'.join(['({}|| {}|| {}|| {}|| {})'.format(item[0].strip(),item[1].strip(),item[2].strip(),item[3].strip(),item[4].strip()) for item in processed_spo_list])\n",
    "            oup = '```\\n' + oup.strip() + '\\n```'\n",
    "            out_data = {\n",
    "                'instruction':inp,\n",
    "                'input':'',\n",
    "                'output':oup,\n",
    "                'text':data['text'],\n",
    "                'spo_list':data['spo_list']\n",
    "            }\n",
    "            fw.write(out_data)\n",
    "end = time.time()\n",
    "print('cost:{}秒'.format(round(end-start, 2)))"
   ]
  },
  {
   "cell_type": "code",
   "execution_count": 25,
   "metadata": {},
   "outputs": [
    {
     "data": {
      "text/plain": [
       "11.720937013626099"
      ]
     },
     "execution_count": 25,
     "metadata": {},
     "output_type": "execute_result"
    }
   ],
   "source": [
    "all_end = time.time()\n",
    "all_end - all_start"
   ]
  }
 ],
 "metadata": {
  "kernelspec": {
   "display_name": "llama_factory",
   "language": "python",
   "name": "python3"
  },
  "language_info": {
   "codemirror_mode": {
    "name": "ipython",
    "version": 3
   },
   "file_extension": ".py",
   "mimetype": "text/x-python",
   "name": "python",
   "nbconvert_exporter": "python",
   "pygments_lexer": "ipython3",
   "version": "3.9.16"
  },
  "orig_nbformat": 4
 },
 "nbformat": 4,
 "nbformat_minor": 2
}
