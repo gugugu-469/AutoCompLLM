{
 "cells": [
  {
   "cell_type": "code",
   "execution_count": 1,
   "metadata": {},
   "outputs": [],
   "source": [
    "import jsonlines\n",
    "import random\n",
    "import os"
   ]
  },
  {
   "cell_type": "code",
   "execution_count": 2,
   "metadata": {},
   "outputs": [],
   "source": [
    "read_dir = './CMeIE-V2/'\n",
    "out_dir = './CMeIE-V2/指令微调数据'\n",
    "os.makedirs(out_dir, exist_ok = True)"
   ]
  },
  {
   "cell_type": "markdown",
   "metadata": {},
   "source": [
    "sft"
   ]
  },
  {
   "cell_type": "code",
   "execution_count": 3,
   "metadata": {},
   "outputs": [],
   "source": [
    "read_paths = [\n",
    "'c_to_hrt_withtype',\n",
    "]\n",
    "out_name = '不拆解_SFT'"
   ]
  },
  {
   "cell_type": "code",
   "execution_count": 4,
   "metadata": {},
   "outputs": [
    {
     "name": "stdout",
     "output_type": "stream",
     "text": [
      "7000\n"
     ]
    }
   ],
   "source": [
    "all_datas = []\n",
    "for read_path in read_paths:\n",
    "    with jsonlines.open(os.path.join(read_dir, read_path, 'train.json'), 'r') as f:\n",
    "        for data in f:\n",
    "            all_datas.append(data)\n",
    "os.makedirs(os.path.join(out_dir, out_name), exist_ok = True)\n",
    "print(len(all_datas))\n",
    "with jsonlines.open(os.path.join(out_dir, out_name, 'sft.json'), 'w') as f:\n",
    "    for data in all_datas:\n",
    "        f.write(data)"
   ]
  },
  {
   "cell_type": "code",
   "execution_count": 5,
   "metadata": {},
   "outputs": [],
   "source": [
    "read_paths = [\n",
    "'c_to_hrt_withtype',\n",
    "'双向拆解/c_to_hr_withtype',\n",
    "'双向拆解/c_to_tr_withtype',\n",
    "'双向拆解/sc_to_hr_withtype',\n",
    "'双向拆解/sc_to_tr_withtype',\n",
    "]\n",
    "out_name = '双向拆解_SFT'"
   ]
  },
  {
   "cell_type": "code",
   "execution_count": 6,
   "metadata": {},
   "outputs": [
    {
     "name": "stdout",
     "output_type": "stream",
     "text": [
      "62887\n"
     ]
    }
   ],
   "source": [
    "all_datas = []\n",
    "for read_path in read_paths:\n",
    "    with jsonlines.open(os.path.join(read_dir, read_path, 'train.json'), 'r') as f:\n",
    "        for data in f:\n",
    "            all_datas.append(data)\n",
    "os.makedirs(os.path.join(out_dir, out_name), exist_ok = True)\n",
    "print(len(all_datas))\n",
    "with jsonlines.open(os.path.join(out_dir, out_name, 'sft.json'), 'w') as f:\n",
    "    for data in all_datas:\n",
    "        f.write(data)"
   ]
  },
  {
   "cell_type": "code",
   "execution_count": 7,
   "metadata": {},
   "outputs": [],
   "source": [
    "read_paths = [\n",
    "'c_to_hrt_withtype',\n",
    "'pipeline拆解/c_to_ht_withtype',\n",
    "'pipeline拆解/c_to_r_withtype',\n",
    "'pipeline拆解/htc_to_r_withtype',\n",
    "'pipeline拆解/rc_to_ht_withtype',\n",
    "]\n",
    "out_name = 'pipeline拆解_SFT'"
   ]
  },
  {
   "cell_type": "code",
   "execution_count": 8,
   "metadata": {},
   "outputs": [
    {
     "name": "stdout",
     "output_type": "stream",
     "text": [
      "69287\n"
     ]
    }
   ],
   "source": [
    "all_datas = []\n",
    "for read_path in read_paths:\n",
    "    with jsonlines.open(os.path.join(read_dir, read_path, 'train.json'), 'r') as f:\n",
    "        for data in f:\n",
    "            all_datas.append(data)\n",
    "os.makedirs(os.path.join(out_dir, out_name), exist_ok = True)\n",
    "print(len(all_datas))\n",
    "with jsonlines.open(os.path.join(out_dir, out_name, 'sft.json'), 'w') as f:\n",
    "    for data in all_datas:\n",
    "        f.write(data)"
   ]
  },
  {
   "cell_type": "markdown",
   "metadata": {},
   "source": [
    "grpo"
   ]
  },
  {
   "cell_type": "code",
   "execution_count": 9,
   "metadata": {},
   "outputs": [],
   "source": [
    "read_paths = [\n",
    "'c_to_hrt_withtype',\n",
    "]\n",
    "out_name = '不拆解_GRPO'"
   ]
  },
  {
   "cell_type": "code",
   "execution_count": 10,
   "metadata": {},
   "outputs": [],
   "source": [
    "all_datas = []\n",
    "for read_path in read_paths:\n",
    "    with jsonlines.open(os.path.join(read_dir, read_path, 'train.json'), 'r') as f:\n",
    "        for data in f:\n",
    "            all_datas.append(data)\n",
    "os.makedirs(os.path.join(out_dir, out_name), exist_ok = True)\n",
    "random.seed(2025)\n",
    "random.shuffle(all_datas)\n",
    "with jsonlines.open(os.path.join(out_dir, out_name, 'sft.json'), 'w') as f:\n",
    "    for data in all_datas[:-1000]:\n",
    "        f.write(data)\n",
    "with jsonlines.open(os.path.join(out_dir, out_name, 'grpo.json'), 'w') as f:\n",
    "    for data in all_datas[-1000:]:\n",
    "        f.write(data)"
   ]
  },
  {
   "cell_type": "code",
   "execution_count": 11,
   "metadata": {},
   "outputs": [],
   "source": [
    "read_paths = [\n",
    "'c_to_hrt_withtype',\n",
    "'双向拆解/c_to_hr_withtype',\n",
    "'双向拆解/c_to_tr_withtype',\n",
    "'双向拆解/sc_to_hr_withtype',\n",
    "'双向拆解/sc_to_tr_withtype',\n",
    "]\n",
    "out_name = '双向拆解_GRPO'"
   ]
  },
  {
   "cell_type": "code",
   "execution_count": 12,
   "metadata": {},
   "outputs": [],
   "source": [
    "all_datas = []\n",
    "for read_path in read_paths:\n",
    "    with jsonlines.open(os.path.join(read_dir, read_path, 'train.json'), 'r') as f:\n",
    "        for data in f:\n",
    "            all_datas.append(data)\n",
    "os.makedirs(os.path.join(out_dir, out_name), exist_ok = True)\n",
    "random.seed(2025)\n",
    "random.shuffle(all_datas)\n",
    "with jsonlines.open(os.path.join(out_dir, out_name, 'sft.json'), 'w') as f:\n",
    "    for data in all_datas[:-10000]:\n",
    "        f.write(data)\n",
    "with jsonlines.open(os.path.join(out_dir, out_name, 'grpo.json'), 'w') as f:\n",
    "    for data in all_datas[-10000:]:\n",
    "        f.write(data)"
   ]
  },
  {
   "cell_type": "code",
   "execution_count": 13,
   "metadata": {},
   "outputs": [],
   "source": [
    "read_paths = [\n",
    "'c_to_hrt_withtype',\n",
    "'pipeline拆解/c_to_ht_withtype',\n",
    "'pipeline拆解/c_to_r_withtype',\n",
    "'pipeline拆解/htc_to_r_withtype',\n",
    "'pipeline拆解/rc_to_ht_withtype',\n",
    "]\n",
    "out_name = 'pipeline拆解_GRPO'"
   ]
  },
  {
   "cell_type": "code",
   "execution_count": 14,
   "metadata": {},
   "outputs": [],
   "source": [
    "all_datas = []\n",
    "for read_path in read_paths:\n",
    "    with jsonlines.open(os.path.join(read_dir, read_path, 'train.json'), 'r') as f:\n",
    "        for data in f:\n",
    "            all_datas.append(data)\n",
    "os.makedirs(os.path.join(out_dir, out_name), exist_ok = True)\n",
    "random.seed(2025)\n",
    "random.shuffle(all_datas)\n",
    "with jsonlines.open(os.path.join(out_dir, out_name, 'sft.json'), 'w') as f:\n",
    "    for data in all_datas[:-10000]:\n",
    "        f.write(data)\n",
    "with jsonlines.open(os.path.join(out_dir, out_name, 'grpo.json'), 'w') as f:\n",
    "    for data in all_datas[-10000:]:\n",
    "        f.write(data)"
   ]
  }
 ],
 "metadata": {
  "kernelspec": {
   "display_name": "torch_rl",
   "language": "python",
   "name": "python3"
  },
  "language_info": {
   "codemirror_mode": {
    "name": "ipython",
    "version": 3
   },
   "file_extension": ".py",
   "mimetype": "text/x-python",
   "name": "python",
   "nbconvert_exporter": "python",
   "pygments_lexer": "ipython3",
   "version": "3.9.16"
  },
  "orig_nbformat": 4
 },
 "nbformat": 4,
 "nbformat_minor": 2
}
