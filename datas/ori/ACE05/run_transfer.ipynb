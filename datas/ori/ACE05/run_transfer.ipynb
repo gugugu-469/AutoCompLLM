{
 "cells": [
  {
   "cell_type": "code",
   "execution_count": 7,
   "metadata": {},
   "outputs": [],
   "source": [
    "import jsonlines\n",
    "import json"
   ]
  },
  {
   "cell_type": "code",
   "execution_count": 8,
   "metadata": {},
   "outputs": [],
   "source": [
    "read_file = 'dev.json'\n",
    "out_file = 'ACE05-dev.jsonl'"
   ]
  },
  {
   "cell_type": "code",
   "execution_count": 9,
   "metadata": {},
   "outputs": [
    {
     "name": "stdout",
     "output_type": "stream",
     "text": [
      "0\n",
      "7\n"
     ]
    }
   ],
   "source": [
    "with open(read_file, 'r') as f:\n",
    "    datas = json.load(f)\n",
    "processed_datas = []\n",
    "\n",
    "for data in datas:\n",
    "    spo_list = []\n",
    "    text = data['sentence']\n",
    "    for event in data['events']:\n",
    "        trigger = event['trigger']\n",
    "        event_type = event['type']\n",
    "        if len(event['arguments']) == 0:\n",
    "            spo_list.append({\n",
    "                'subject': trigger,\n",
    "                'subject_type': \"trigger\",\n",
    "                'predicate': event_type,\n",
    "                'object': {'@value':'None'},\n",
    "                'object_type': {'@value':'None'},\n",
    "            })\n",
    "        else:\n",
    "            for arg in event['arguments']:\n",
    "                arg_name = arg['name']\n",
    "                arg_role = arg['role']\n",
    "                spo_list.append({\n",
    "                    'subject': trigger,\n",
    "                    'subject_type': \"trigger\",\n",
    "                    'predicate': event_type,\n",
    "                    'object': {'@value':arg_name},\n",
    "                    'object_type': {'@value':arg_role},\n",
    "                })\n",
    "    processed_datas.append({\n",
    "        'text': text,\n",
    "        'spo_list': spo_list\n",
    "    })\n",
    "\n",
    "        \n",
    "with jsonlines.open(out_file, 'w') as f:\n",
    "    for data in processed_datas:\n",
    "        f.write(data)\n"
   ]
  }
 ],
 "metadata": {
  "kernelspec": {
   "display_name": "llama_factory",
   "language": "python",
   "name": "python3"
  },
  "language_info": {
   "codemirror_mode": {
    "name": "ipython",
    "version": 3
   },
   "file_extension": ".py",
   "mimetype": "text/x-python",
   "name": "python",
   "nbconvert_exporter": "python",
   "pygments_lexer": "ipython3",
   "version": "3.10.13"
  },
  "orig_nbformat": 4
 },
 "nbformat": 4,
 "nbformat_minor": 2
}
