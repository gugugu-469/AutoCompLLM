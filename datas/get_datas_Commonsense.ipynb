{
 "cells": [
  {
   "cell_type": "code",
   "execution_count": null,
   "metadata": {},
   "outputs": [],
   "source": [
    "import os\n",
    "import json\n",
    "import jsonlines\n",
    "from collections import defaultdict\n",
    "import time\n",
    "import random\n",
    "random.seed(2025)"
   ]
  },
  {
   "cell_type": "code",
   "execution_count": null,
   "metadata": {},
   "outputs": [],
   "source": [
    "all_start = time.time()"
   ]
  },
  {
   "cell_type": "code",
   "execution_count": null,
   "metadata": {},
   "outputs": [],
   "source": [
    "# CMeIE\n",
    "# A. c→(h,t)\n",
    "out_name = 'sub_task'\n",
    "inp_prompt = '''You are currently a senior expert in commonsense true-or-false questions.\n",
    "Your task is to determine whether a given question and candidate answer are correct.\n",
    "The output format of the task is: Yes or No.\n",
    "Given question: \"{question}\"\n",
    "Candidate answer: \"{answer}\"\n",
    "'''\n",
    "oup_prompt = '{answer_text}'"
   ]
  },
  {
   "cell_type": "code",
   "execution_count": null,
   "metadata": {},
   "outputs": [],
   "source": [
    "data_file_list = [\n",
    "    'train_rand_split.jsonl',\n",
    "    'dev_rand_split.jsonl',\n",
    "]\n",
    "out_file_list = [\n",
    "    'train.json',\n",
    "    'dev.json',\n",
    "]"
   ]
  },
  {
   "cell_type": "code",
   "execution_count": null,
   "metadata": {},
   "outputs": [],
   "source": [
    "read_dir = './ori/CommonsenseQA/'\n",
    "out_dir = './CommonsenseQA'\n",
    "out_dir = os.path.join(out_dir,out_name)\n",
    "if not os.path.exists(out_dir):\n",
    "    os.makedirs(out_dir)"
   ]
  },
  {
   "cell_type": "code",
   "execution_count": null,
   "metadata": {},
   "outputs": [],
   "source": [
    "start = time.time()\n",
    "print('out_name:{}'.format(out_name))\n",
    "for data_file,out_file in zip(data_file_list,out_file_list):\n",
    "    read_path = os.path.join(read_dir,data_file)\n",
    "    out_path = os.path.join(out_dir,out_file)\n",
    "    with jsonlines.open(read_path,'r') as f:\n",
    "        datas = [data for data in f]\n",
    "    with jsonlines.open(out_path,'w') as fw:\n",
    "        for data in datas:\n",
    "            ans = data['answerKey']\n",
    "            data = data['question']\n",
    "            question = data['stem']\n",
    "            for choice in data['choices']:\n",
    "                label = choice['label']\n",
    "                text = choice['text']\n",
    "                inp = inp_prompt.format(question = question, answer = text)\n",
    "                if label == ans:\n",
    "                    oup = 'Yes'\n",
    "                    out_data = {\n",
    "                        'instruction':inp,\n",
    "                        'input':'',\n",
    "                        'output':oup\n",
    "                    }\n",
    "                    fw.write(out_data)\n",
    "                else:\n",
    "                    oup = 'No'\n",
    "                    if random.random() <= 0.25:\n",
    "                        out_data = {\n",
    "                            'instruction':inp,\n",
    "                            'input':'',\n",
    "                            'output':oup\n",
    "                        }\n",
    "                        fw.write(out_data)\n",
    "end = time.time()\n",
    "print('cost:{}秒'.format(round(end-start, 2)))"
   ]
  },
  {
   "cell_type": "code",
   "execution_count": null,
   "metadata": {},
   "outputs": [],
   "source": [
    "# CMeIE\n",
    "# C. h[s1]t [s2]c→r\n",
    "out_name = 'option_task'\n",
    "inp_prompt = '''You are currently a senior expert in commonsense Q&A.\n",
    "Your task is to choose the correct answer option based on the given question and five options. The input format of option is: \"option number. option content\".\n",
    "The output format of the task is: correct option number.\n",
    "Given question: \"{question}\"\n",
    "Given options: {option}\n",
    "'''\n",
    "oup_prompt = '{answer_text}'"
   ]
  },
  {
   "cell_type": "code",
   "execution_count": null,
   "metadata": {},
   "outputs": [],
   "source": [
    "data_file_list = [\n",
    "    'train_rand_split.jsonl',\n",
    "    'dev_rand_split.jsonl',\n",
    "]\n",
    "out_file_list = [\n",
    "    'train.json',\n",
    "    'dev.json',\n",
    "]"
   ]
  },
  {
   "cell_type": "code",
   "execution_count": null,
   "metadata": {},
   "outputs": [],
   "source": [
    "read_dir = './ori/CommonsenseQA/'\n",
    "out_dir = './CommonsenseQA'\n",
    "out_dir = os.path.join(out_dir,out_name)\n",
    "if not os.path.exists(out_dir):\n",
    "    os.makedirs(out_dir)"
   ]
  },
  {
   "cell_type": "code",
   "execution_count": null,
   "metadata": {},
   "outputs": [],
   "source": [
    "start = time.time()\n",
    "print('out_name:{}'.format(out_name))\n",
    "for data_file,out_file in zip(data_file_list,out_file_list):\n",
    "    read_path = os.path.join(read_dir,data_file)\n",
    "    out_path = os.path.join(out_dir,out_file)\n",
    "    with jsonlines.open(read_path,'r') as f:\n",
    "        datas = [data for data in f]\n",
    "    with jsonlines.open(out_path,'w') as fw:\n",
    "        for data in datas:\n",
    "            ans = data['answerKey']\n",
    "            data = data['question']\n",
    "            question = data['stem']\n",
    "            option = ''\n",
    "            for i,choice in enumerate(data['choices']):\n",
    "                label = choice['label']\n",
    "                text = choice['text']\n",
    "                assert chr(ord('A')+i) == label\n",
    "                option += '{}. {};\\t'.format(label,text)\n",
    "            option = option.strip()\n",
    "\n",
    "\n",
    "            inp = inp_prompt.format(question = question, option = option)\n",
    "            oup = ans\n",
    "            out_data = {\n",
    "                'instruction':inp,\n",
    "                'input':'',\n",
    "                'output':oup\n",
    "            }\n",
    "            fw.write(out_data)\n",
    "end = time.time()\n",
    "print('cost:{}秒'.format(round(end-start, 2)))"
   ]
  },
  {
   "cell_type": "code",
   "execution_count": null,
   "metadata": {},
   "outputs": [],
   "source": [
    "# CMeIE\n",
    "# C. h[s1]t [s2]c→r\n",
    "out_name = 'option_task_fewer'\n",
    "inp_prompt = '''You are currently a senior expert in commonsense Q&A.\n",
    "Your task is to choose the correct answer option based on the given question and {op_nums} options. The input format of option is: \"option number. option content\".\n",
    "The output format of the task is: correct option number.\n",
    "Given question: \"{question}\"\n",
    "Given options: {option}\n",
    "'''\n",
    "oup_prompt = '{answer_text}'"
   ]
  },
  {
   "cell_type": "code",
   "execution_count": null,
   "metadata": {},
   "outputs": [],
   "source": [
    "data_file_list = [\n",
    "    'train_rand_split.jsonl',\n",
    "    'dev_rand_split.jsonl',\n",
    "]\n",
    "out_file_list = [\n",
    "    'train.json',\n",
    "    'dev.json',\n",
    "]"
   ]
  },
  {
   "cell_type": "code",
   "execution_count": null,
   "metadata": {},
   "outputs": [],
   "source": [
    "read_dir = './ori/CommonsenseQA/'\n",
    "out_dir = './CommonsenseQA'\n",
    "out_dir = os.path.join(out_dir,out_name)\n",
    "if not os.path.exists(out_dir):\n",
    "    os.makedirs(out_dir)"
   ]
  },
  {
   "cell_type": "code",
   "execution_count": null,
   "metadata": {},
   "outputs": [],
   "source": [
    "op_nums = ['two', 'three', 'four', 'five']\n",
    "start = time.time()\n",
    "print('out_name:{}'.format(out_name))\n",
    "for data_file, out_file in zip(data_file_list, out_file_list):\n",
    "    read_path = os.path.join(read_dir, data_file)\n",
    "    out_path = os.path.join(out_dir, out_file)\n",
    "    \n",
    "    with jsonlines.open(read_path, 'r') as f:\n",
    "        datas = [data for data in f]\n",
    "    \n",
    "    # Split data into 4 equal parts\n",
    "    chunk_size = len(datas) // 4\n",
    "    data_chunks = [\n",
    "        datas[:chunk_size],\n",
    "        datas[chunk_size:2*chunk_size],\n",
    "        datas[2*chunk_size:3*chunk_size],\n",
    "        datas[3*chunk_size:]\n",
    "    ]\n",
    "    \n",
    "    with jsonlines.open(out_path, 'w') as fw:\n",
    "        for chunk_idx, chunk in enumerate(data_chunks):\n",
    "            n_options = chunk_idx + 2  # 2, 3, 4, 5 options\n",
    "            op_num = op_nums[chunk_idx]\n",
    "            \n",
    "            for data in chunk:\n",
    "                ans = data['answerKey']\n",
    "                data = data['question']\n",
    "                question = data['stem']\n",
    "                \n",
    "                # Get all choices and the correct answer\n",
    "                all_choices = data['choices']\n",
    "                correct_choice = None\n",
    "                options = []\n",
    "                \n",
    "                for i, choice in enumerate(all_choices):\n",
    "                    label = choice['label']\n",
    "                    text = choice['text']\n",
    "                    assert chr(ord('A') + i) == label\n",
    "                    if label == ans:\n",
    "                        correct_choice = (label, text)\n",
    "                    options.append((label, text))\n",
    "                \n",
    "                # Randomly select n_options-1 incorrect options + the correct one\n",
    "                incorrect_options = [opt for opt in options if opt[0] != ans]\n",
    "                selected_incorrect = random.sample(incorrect_options, n_options-1)\n",
    "                selected_options = selected_incorrect + [correct_choice]\n",
    "                \n",
    "                # Shuffle the options\n",
    "                random.shuffle(selected_options)\n",
    "                \n",
    "                # Find the new correct label after shuffling\n",
    "                new_correct_label = None\n",
    "                option_text = ''\n",
    "                for i, (label, text) in enumerate(selected_options):\n",
    "                    if label == ans:\n",
    "                        new_correct_label = chr(ord('A') + i)\n",
    "                    option_text += '{}. {};\\t'.format(chr(ord('A') + i), text)\n",
    "                option_text = option_text.strip()\n",
    "                \n",
    "                inp = inp_prompt.format(question=question, option=option_text, op_nums= op_num)\n",
    "                oup = new_correct_label\n",
    "                out_data = {\n",
    "                    'instruction': inp,\n",
    "                    'input': '',\n",
    "                    'output': oup\n",
    "                }\n",
    "                fw.write(out_data)\n",
    "end = time.time()\n",
    "print('cost:{}秒'.format(round(end-start, 2)))"
   ]
  },
  {
   "cell_type": "code",
   "execution_count": null,
   "metadata": {},
   "outputs": [],
   "source": [
    "\n",
    "all_end = time.time()\n",
    "all_end-all_start"
   ]
  }
 ],
 "metadata": {
  "kernelspec": {
   "display_name": "llama_factory",
   "language": "python",
   "name": "python3"
  },
  "language_info": {
   "codemirror_mode": {
    "name": "ipython",
    "version": 3
   },
   "file_extension": ".py",
   "mimetype": "text/x-python",
   "name": "python",
   "nbconvert_exporter": "python",
   "pygments_lexer": "ipython3",
   "version": "3.9.16"
  },
  "orig_nbformat": 4
 },
 "nbformat": 4,
 "nbformat_minor": 2
}
