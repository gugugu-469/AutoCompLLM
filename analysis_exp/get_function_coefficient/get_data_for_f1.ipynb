{
 "cells": [
  {
   "cell_type": "code",
   "execution_count": 4,
   "metadata": {},
   "outputs": [],
   "source": [
    "import os\n",
    "import jsonlines\n",
    "import json"
   ]
  },
  {
   "cell_type": "code",
   "execution_count": 5,
   "metadata": {},
   "outputs": [],
   "source": [
    "# Each lien format\n",
    "# Training time, Inf time, p, r, f1, vd, vt, vi \n",
    "# Training time, Inf time, acc, vd, vt, vi \n",
    "all_results = [\n",
    "    {\n",
    "        \"res\":'''\n",
    "''',\n",
    "    \"out_name\":\"CMeIE-qwen3\"\n",
    "},\n",
    "{\n",
    "\"res\":'''\n",
    "''',\n",
    "\"out_name\":\"CMeIE-glm4\"\n",
    "},\n",
    "{\n",
    "\"res\":'''\n",
    "''',\n",
    "\"out_name\":\"CMeIE-llama3\"\n",
    "},\n",
    "{\n",
    "\"res\":'''\n",
    "''',\n",
    "\"out_name\":\"CMeIE-intern3\"\n",
    "}\n",
    "]"
   ]
  },
  {
   "cell_type": "code",
   "execution_count": 6,
   "metadata": {},
   "outputs": [],
   "source": [
    "for item in all_results:\n",
    "    s = item['res']\n",
    "    out_name = item['out_name']\n",
    "    s = s.strip()\n",
    "    best_str_list = ''\n",
    "    other_str_list = []\n",
    "\n",
    "    now_max_f1 = -1\n",
    "    if 'Common' in out_name:\n",
    "        for item in s.strip().split('\\n'):\n",
    "            acc,vd,vt,vi = item.strip().split('\\t')\n",
    "            other_str_list.append('{}\\t{}\\t{}'.format(vd,vt,vi))\n",
    "            acc = float(acc)\n",
    "            if acc > now_max_f1:\n",
    "                now_max_f1 = acc\n",
    "                best_str_list = '{}\\t{}\\t{}'.format(vd,vt,vi)\n",
    "    else:\n",
    "        for item in s.strip().split('\\n'):\n",
    "            p,r,f1,vd,vt,vi = item.strip().split('\\t')\n",
    "            other_str_list.append('{}\\t{}\\t{}'.format(vd,vt,vi))\n",
    "            f1 = float(f1)\n",
    "            if f1 > now_max_f1:\n",
    "                now_max_f1 = f1\n",
    "                best_str_list = '{}\\t{}\\t{}'.format(vd,vt,vi)\n",
    "    with open('./f1/{}.json'.format(out_name), 'w') as f:\n",
    "        json.dump({\n",
    "            'other_str_list': other_str_list,\n",
    "            'best_str_list': best_str_list,\n",
    "        }, f,ensure_ascii=False,indent=2)"
   ]
  }
 ],
 "metadata": {
  "kernelspec": {
   "display_name": "llama_factory",
   "language": "python",
   "name": "python3"
  },
  "language_info": {
   "codemirror_mode": {
    "name": "ipython",
    "version": 3
   },
   "file_extension": ".py",
   "mimetype": "text/x-python",
   "name": "python",
   "nbconvert_exporter": "python",
   "pygments_lexer": "ipython3",
   "version": "3.9.16"
  },
  "orig_nbformat": 4
 },
 "nbformat": 4,
 "nbformat_minor": 2
}
